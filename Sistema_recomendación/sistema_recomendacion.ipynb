{
 "cells": [
  {
   "cell_type": "markdown",
   "metadata": {},
   "source": [
    "### Se importan las librerias necesarias"
   ]
  },
  {
   "cell_type": "code",
   "execution_count": 1,
   "metadata": {},
   "outputs": [],
   "source": [
    "import numpy as np\n",
    "import pandas as pd\n",
    "from sklearn.metrics.pairwise import cosine_similarity\n",
    "import matplotlib.pyplot as plt\n",
    "import seaborn as sns\n",
    "import scipy as sp\n",
    "\n",
    "\n",
    "plt.style.use(\"ggplot\")\n"
   ]
  },
  {
   "cell_type": "markdown",
   "metadata": {},
   "source": [
    "### Se cargan los archivos a utilizar"
   ]
  },
  {
   "cell_type": "code",
   "execution_count": 49,
   "metadata": {},
   "outputs": [],
   "source": [
    "# Cargar los datos de los archivos .parquet\n",
    "df_items = pd.read_parquet('df2_items.parquet')\n",
    "df_reviews = pd.read_parquet('df_reviews_sentiment.parquet')"
   ]
  },
  {
   "cell_type": "markdown",
   "metadata": {},
   "source": [
    "### Se verifican los tipos de datos, filas y columnas de los archivos"
   ]
  },
  {
   "cell_type": "code",
   "execution_count": null,
   "metadata": {},
   "outputs": [],
   "source": [
    "df_items.info()\n",
    "df_reviews.info()"
   ]
  },
  {
   "cell_type": "markdown",
   "metadata": {},
   "source": [
    "### Se imprimen los datos para ver la primeras y últimas filas del Dataframe"
   ]
  },
  {
   "cell_type": "code",
   "execution_count": null,
   "metadata": {},
   "outputs": [],
   "source": [
    "df_items.head()\n",
    "df_items.tail()"
   ]
  },
  {
   "cell_type": "markdown",
   "metadata": {},
   "source": [
    "### Se eliminan las columnas que no aportaran al sistema de recomendación"
   ]
  },
  {
   "cell_type": "code",
   "execution_count": 7,
   "metadata": {},
   "outputs": [],
   "source": [
    "df_items = df_items.drop([\"steam_id\",\"user_url\",\"playtime_2weeks\"], axis=1)"
   ]
  },
  {
   "cell_type": "markdown",
   "metadata": {},
   "source": [
    "### Se verifican los diuplicados de los dos archivos"
   ]
  },
  {
   "cell_type": "code",
   "execution_count": 48,
   "metadata": {},
   "outputs": [
    {
     "data": {
      "text/html": [
       "<div>\n",
       "<style scoped>\n",
       "    .dataframe tbody tr th:only-of-type {\n",
       "        vertical-align: middle;\n",
       "    }\n",
       "\n",
       "    .dataframe tbody tr th {\n",
       "        vertical-align: top;\n",
       "    }\n",
       "\n",
       "    .dataframe thead th {\n",
       "        text-align: right;\n",
       "    }\n",
       "</style>\n",
       "<table border=\"1\" class=\"dataframe\">\n",
       "  <thead>\n",
       "    <tr style=\"text-align: right;\">\n",
       "      <th></th>\n",
       "      <th>user_id</th>\n",
       "      <th>item_id</th>\n",
       "      <th>posted</th>\n",
       "      <th>recommend</th>\n",
       "      <th>review</th>\n",
       "      <th>sentiment_analysis</th>\n",
       "    </tr>\n",
       "  </thead>\n",
       "  <tbody>\n",
       "    <tr>\n",
       "      <th>0</th>\n",
       "      <td>76561197970982479</td>\n",
       "      <td>1250</td>\n",
       "      <td>Posted November 5, 2011.</td>\n",
       "      <td>True</td>\n",
       "      <td>simple yet with great replayability in my opin...</td>\n",
       "      <td>2</td>\n",
       "    </tr>\n",
       "    <tr>\n",
       "      <th>1</th>\n",
       "      <td>76561197970982479</td>\n",
       "      <td>22200</td>\n",
       "      <td>Posted July 15, 2011.</td>\n",
       "      <td>True</td>\n",
       "      <td>its unique and worth a playthrough</td>\n",
       "      <td>2</td>\n",
       "    </tr>\n",
       "    <tr>\n",
       "      <th>2</th>\n",
       "      <td>76561197970982479</td>\n",
       "      <td>43110</td>\n",
       "      <td>Posted April 21, 2011.</td>\n",
       "      <td>True</td>\n",
       "      <td>great atmosphere the gunplay can be a bit chun...</td>\n",
       "      <td>2</td>\n",
       "    </tr>\n",
       "    <tr>\n",
       "      <th>3</th>\n",
       "      <td>js41637</td>\n",
       "      <td>251610</td>\n",
       "      <td>Posted June 24, 2014.</td>\n",
       "      <td>True</td>\n",
       "      <td>i know what you think when you see this title ...</td>\n",
       "      <td>2</td>\n",
       "    </tr>\n",
       "    <tr>\n",
       "      <th>4</th>\n",
       "      <td>js41637</td>\n",
       "      <td>227300</td>\n",
       "      <td>Posted September 8, 2013.</td>\n",
       "      <td>True</td>\n",
       "      <td>for a simple its actually not all that simple ...</td>\n",
       "      <td>2</td>\n",
       "    </tr>\n",
       "    <tr>\n",
       "      <th>...</th>\n",
       "      <td>...</td>\n",
       "      <td>...</td>\n",
       "      <td>...</td>\n",
       "      <td>...</td>\n",
       "      <td>...</td>\n",
       "      <td>...</td>\n",
       "    </tr>\n",
       "    <tr>\n",
       "      <th>57248</th>\n",
       "      <td>76561198312638244</td>\n",
       "      <td>70</td>\n",
       "      <td>Posted July 10.</td>\n",
       "      <td>True</td>\n",
       "      <td>a must have classic from steam definitely wort...</td>\n",
       "      <td>2</td>\n",
       "    </tr>\n",
       "    <tr>\n",
       "      <th>57249</th>\n",
       "      <td>76561198312638244</td>\n",
       "      <td>362890</td>\n",
       "      <td>Posted July 8.</td>\n",
       "      <td>True</td>\n",
       "      <td>this game is a perfect remake of the original ...</td>\n",
       "      <td>2</td>\n",
       "    </tr>\n",
       "    <tr>\n",
       "      <th>57250</th>\n",
       "      <td>LydiaMorley</td>\n",
       "      <td>273110</td>\n",
       "      <td>Posted July 3.</td>\n",
       "      <td>True</td>\n",
       "      <td>had so much fun plaing this and collecting res...</td>\n",
       "      <td>2</td>\n",
       "    </tr>\n",
       "    <tr>\n",
       "      <th>57251</th>\n",
       "      <td>LydiaMorley</td>\n",
       "      <td>730</td>\n",
       "      <td>Posted July 20.</td>\n",
       "      <td>True</td>\n",
       "      <td>d</td>\n",
       "      <td>1</td>\n",
       "    </tr>\n",
       "    <tr>\n",
       "      <th>57252</th>\n",
       "      <td>LydiaMorley</td>\n",
       "      <td>440</td>\n",
       "      <td>Posted July 2.</td>\n",
       "      <td>True</td>\n",
       "      <td>so much fun d</td>\n",
       "      <td>2</td>\n",
       "    </tr>\n",
       "  </tbody>\n",
       "</table>\n",
       "<p>57253 rows × 6 columns</p>\n",
       "</div>"
      ],
      "text/plain": [
       "                 user_id item_id                     posted  recommend  \\\n",
       "0      76561197970982479    1250   Posted November 5, 2011.       True   \n",
       "1      76561197970982479   22200      Posted July 15, 2011.       True   \n",
       "2      76561197970982479   43110     Posted April 21, 2011.       True   \n",
       "3                js41637  251610      Posted June 24, 2014.       True   \n",
       "4                js41637  227300  Posted September 8, 2013.       True   \n",
       "...                  ...     ...                        ...        ...   \n",
       "57248  76561198312638244      70            Posted July 10.       True   \n",
       "57249  76561198312638244  362890             Posted July 8.       True   \n",
       "57250        LydiaMorley  273110             Posted July 3.       True   \n",
       "57251        LydiaMorley     730            Posted July 20.       True   \n",
       "57252        LydiaMorley     440             Posted July 2.       True   \n",
       "\n",
       "                                                  review  sentiment_analysis  \n",
       "0      simple yet with great replayability in my opin...                   2  \n",
       "1                     its unique and worth a playthrough                   2  \n",
       "2      great atmosphere the gunplay can be a bit chun...                   2  \n",
       "3      i know what you think when you see this title ...                   2  \n",
       "4      for a simple its actually not all that simple ...                   2  \n",
       "...                                                  ...                 ...  \n",
       "57248  a must have classic from steam definitely wort...                   2  \n",
       "57249  this game is a perfect remake of the original ...                   2  \n",
       "57250  had so much fun plaing this and collecting res...                   2  \n",
       "57251                                                  d                   1  \n",
       "57252                                      so much fun d                   2  \n",
       "\n",
       "[57253 rows x 6 columns]"
      ]
     },
     "execution_count": 48,
     "metadata": {},
     "output_type": "execute_result"
    }
   ],
   "source": [
    "df_items.drop_duplicates()\n",
    "df_reviews.drop_duplicates()"
   ]
  },
  {
   "cell_type": "markdown",
   "metadata": {},
   "source": [
    "### Se filtran las columnas relevantes para el sistema de recomendación"
   ]
  },
  {
   "cell_type": "code",
   "execution_count": 9,
   "metadata": {},
   "outputs": [],
   "source": [
    "# Filtrar columnas relevantes para la recomendación\n",
    "df_items_filtered = df_items[['user_id', 'item_id','item_name','playtime_forever']]\n",
    "df_reviews_filtered = df_reviews[['user_id', 'item_id', 'sentiment_analysis']]"
   ]
  },
  {
   "cell_type": "markdown",
   "metadata": {},
   "source": [
    "### Se verifican los filtros "
   ]
  },
  {
   "cell_type": "code",
   "execution_count": null,
   "metadata": {},
   "outputs": [],
   "source": [
    "df_reviews_filtered"
   ]
  },
  {
   "cell_type": "code",
   "execution_count": null,
   "metadata": {},
   "outputs": [],
   "source": [
    "df_items_filtered"
   ]
  },
  {
   "cell_type": "markdown",
   "metadata": {},
   "source": [
    "### Se filtran en un DataFrame eliminando las filas donde la columna 'playtime_forever' tenga un valor de 0.\n",
    "\n"
   ]
  },
  {
   "cell_type": "code",
   "execution_count": 12,
   "metadata": {},
   "outputs": [],
   "source": [
    "df_items_filtered = df_items_filtered[df_items_filtered['playtime_forever'] != 0]"
   ]
  },
  {
   "cell_type": "markdown",
   "metadata": {},
   "source": [
    "### Se verifica la eliminación"
   ]
  },
  {
   "cell_type": "code",
   "execution_count": null,
   "metadata": {},
   "outputs": [],
   "source": [
    "df_items_filtered"
   ]
  },
  {
   "cell_type": "markdown",
   "metadata": {},
   "source": [
    "### Se combina en un solo df las columnas filtradas de cada archivo, las columnas de union son : 'user_id' e 'item_id'"
   ]
  },
  {
   "cell_type": "code",
   "execution_count": 14,
   "metadata": {},
   "outputs": [],
   "source": [
    "df_combined = pd.merge(df_items_filtered, df_reviews_filtered, on=['user_id', 'item_id'])"
   ]
  },
  {
   "cell_type": "markdown",
   "metadata": {},
   "source": [
    "### Se verifica el Df nievo producto de la combinación "
   ]
  },
  {
   "cell_type": "code",
   "execution_count": null,
   "metadata": {},
   "outputs": [],
   "source": [
    "df_combined"
   ]
  },
  {
   "cell_type": "markdown",
   "metadata": {},
   "source": [
    "### Se grafica la distribución de los diferentes valores de frecuencia de análisis de sentimiento: ccuántas reseñas son positivas, neutrales o negativas."
   ]
  },
  {
   "cell_type": "code",
   "execution_count": 47,
   "metadata": {},
   "outputs": [
    {
     "name": "stderr",
     "output_type": "stream",
     "text": [
      "/var/folders/mz/q_bk1n_55k70r74tttm3ps0c0000gn/T/ipykernel_1944/2671677399.py:5: FutureWarning: \n",
      "\n",
      "Passing `palette` without assigning `hue` is deprecated and will be removed in v0.14.0. Assign the `x` variable to `hue` and set `legend=False` for the same effect.\n",
      "\n",
      "  ax = sns.countplot(x=\"sentiment_analysis\", data=df_combined, palette=\"coolwarm\", order=[0, 1, 2])\n"
     ]
    },
    {
     "data": {
      "image/png": "[encoded data removed]",
      "text/plain": [
       "<Figure size 640x480 with 1 Axes>"
      ]
     },
     "metadata": {},
     "output_type": "display_data"
    }
   ],
   "source": [
    "total = len(df_combined['sentiment_analysis'])\n",
    "ax = sns.countplot(x=\"sentiment_analysis\", data=df_combined, palette=\"coolwarm\", order=[0, 1, 2])\n",
    "plt.title('Distribución del Análisis de Sentimientos')\n",
    "plt.xlabel('Sentimiento')\n",
    "plt.ylabel('Número de reseñas')\n",
    "for p in ax.patches:\n",
    "    percentage = '{:.1f}%'.format(100 * p.get_height() / total)\n",
    "    ax.annotate(percentage, (p.get_x() + p.get_width() / 2., p.get_height()), \n",
    "                ha='center', va='center', size=12, xytext=(0, 5), textcoords='offset points')\n",
    "plt.show()\n"
   ]
  },
  {
   "cell_type": "markdown",
   "metadata": {},
   "source": [
    "### Se realiza una prueba para el funcionamiento de DF con un juego en específico \"Killing Floor\""
   ]
  },
  {
   "cell_type": "code",
   "execution_count": null,
   "metadata": {},
   "outputs": [],
   "source": [
    "df_combined[df_combined[\"item_name\"]== \"Killing Floor\"]"
   ]
  },
  {
   "cell_type": "markdown",
   "metadata": {},
   "source": [
    "####  Reorganizar los datos en forma de tabla dinámica, creando una nueva estructura que muestra el análisis de sentimientos (columna sentiment_analysis) promedio para cada combinación de usuario (user_id) y nombre de ítem (item_name)."
   ]
  },
  {
   "cell_type": "code",
   "execution_count": null,
   "metadata": {},
   "outputs": [],
   "source": [
    "## nota: Si un usuario ha dado múltiples reseñas para un mismo ítem, se tomará el promedio de esos valores de sentiment_analysis (aggfunc=np.mean).\n",
    "## Cada fila del DataFrame resultante corresponderá a un usuario único, identificado por user_id, Cada columna representará un ítem (nombre de juego, por ejemplo) de la columna item_name y el valor en cada celda de la tabla será el valor de la columna sentiment_analysis\n",
    "\n",
    "items_pivot = df_combined.pivot_table(index= \"user_id\", columns = \"item_name\", values=\"sentiment_analysis\", aggfunc=np.mean)"
   ]
  },
  {
   "cell_type": "markdown",
   "metadata": {},
   "source": [
    "### Se verifica la tabla dinámica "
   ]
  },
  {
   "cell_type": "code",
   "execution_count": 51,
   "metadata": {},
   "outputs": [
    {
     "data": {
      "text/html": [
       "<div>\n",
       "<style scoped>\n",
       "    .dataframe tbody tr th:only-of-type {\n",
       "        vertical-align: middle;\n",
       "    }\n",
       "\n",
       "    .dataframe tbody tr th {\n",
       "        vertical-align: top;\n",
       "    }\n",
       "\n",
       "    .dataframe thead th {\n",
       "        text-align: right;\n",
       "    }\n",
       "</style>\n",
       "<table border=\"1\" class=\"dataframe\">\n",
       "  <thead>\n",
       "    <tr style=\"text-align: right;\">\n",
       "      <th>item_name</th>\n",
       "      <th>! That Bastard Is Trying To Steal Our Gold !</th>\n",
       "      <th>10,000,000</th>\n",
       "      <th>100% Orange Juice</th>\n",
       "      <th>12 Labours of Hercules</th>\n",
       "      <th>12 Labours of Hercules II: The Cretan Bull</th>\n",
       "      <th>140</th>\n",
       "      <th>16 Bit Arena</th>\n",
       "      <th>16bit Trader</th>\n",
       "      <th>200% Mixed Juice!</th>\n",
       "      <th>20XX</th>\n",
       "      <th>...</th>\n",
       "      <th>klocki</th>\n",
       "      <th>liteCam Game: 100 FPS Game Capture</th>\n",
       "      <th>oO</th>\n",
       "      <th>planetarian ~the reverie of a little planet~</th>\n",
       "      <th>resident evil 4 / biohazard 4</th>\n",
       "      <th>sZone-Online</th>\n",
       "      <th>the static speaks my name</th>\n",
       "      <th>theBlu</th>\n",
       "      <th>theHunter</th>\n",
       "      <th>theHunter: Primal</th>\n",
       "    </tr>\n",
       "    <tr>\n",
       "      <th>user_id</th>\n",
       "      <th></th>\n",
       "      <th></th>\n",
       "      <th></th>\n",
       "      <th></th>\n",
       "      <th></th>\n",
       "      <th></th>\n",
       "      <th></th>\n",
       "      <th></th>\n",
       "      <th></th>\n",
       "      <th></th>\n",
       "      <th></th>\n",
       "      <th></th>\n",
       "      <th></th>\n",
       "      <th></th>\n",
       "      <th></th>\n",
       "      <th></th>\n",
       "      <th></th>\n",
       "      <th></th>\n",
       "      <th></th>\n",
       "      <th></th>\n",
       "      <th></th>\n",
       "    </tr>\n",
       "  </thead>\n",
       "  <tbody>\n",
       "    <tr>\n",
       "      <th>--000--</th>\n",
       "      <td>0.0</td>\n",
       "      <td>0.0</td>\n",
       "      <td>0.0</td>\n",
       "      <td>0.0</td>\n",
       "      <td>0.0</td>\n",
       "      <td>0.0</td>\n",
       "      <td>0.0</td>\n",
       "      <td>0.0</td>\n",
       "      <td>0.0</td>\n",
       "      <td>0.0</td>\n",
       "      <td>...</td>\n",
       "      <td>0.0</td>\n",
       "      <td>0.0</td>\n",
       "      <td>0.0</td>\n",
       "      <td>0.0</td>\n",
       "      <td>0.0</td>\n",
       "      <td>0.0</td>\n",
       "      <td>0.0</td>\n",
       "      <td>0.0</td>\n",
       "      <td>0.0</td>\n",
       "      <td>0.0</td>\n",
       "    </tr>\n",
       "    <tr>\n",
       "      <th>--ace--</th>\n",
       "      <td>0.0</td>\n",
       "      <td>0.0</td>\n",
       "      <td>0.0</td>\n",
       "      <td>0.0</td>\n",
       "      <td>0.0</td>\n",
       "      <td>0.0</td>\n",
       "      <td>0.0</td>\n",
       "      <td>0.0</td>\n",
       "      <td>0.0</td>\n",
       "      <td>0.0</td>\n",
       "      <td>...</td>\n",
       "      <td>0.0</td>\n",
       "      <td>0.0</td>\n",
       "      <td>0.0</td>\n",
       "      <td>0.0</td>\n",
       "      <td>0.0</td>\n",
       "      <td>0.0</td>\n",
       "      <td>0.0</td>\n",
       "      <td>0.0</td>\n",
       "      <td>0.0</td>\n",
       "      <td>0.0</td>\n",
       "    </tr>\n",
       "    <tr>\n",
       "      <th>--ionex--</th>\n",
       "      <td>0.0</td>\n",
       "      <td>0.0</td>\n",
       "      <td>0.0</td>\n",
       "      <td>0.0</td>\n",
       "      <td>0.0</td>\n",
       "      <td>0.0</td>\n",
       "      <td>0.0</td>\n",
       "      <td>0.0</td>\n",
       "      <td>0.0</td>\n",
       "      <td>0.0</td>\n",
       "      <td>...</td>\n",
       "      <td>0.0</td>\n",
       "      <td>0.0</td>\n",
       "      <td>0.0</td>\n",
       "      <td>0.0</td>\n",
       "      <td>0.0</td>\n",
       "      <td>0.0</td>\n",
       "      <td>0.0</td>\n",
       "      <td>0.0</td>\n",
       "      <td>0.0</td>\n",
       "      <td>0.0</td>\n",
       "    </tr>\n",
       "    <tr>\n",
       "      <th>-2SV-vuLB-Kg</th>\n",
       "      <td>0.0</td>\n",
       "      <td>0.0</td>\n",
       "      <td>0.0</td>\n",
       "      <td>0.0</td>\n",
       "      <td>0.0</td>\n",
       "      <td>0.0</td>\n",
       "      <td>0.0</td>\n",
       "      <td>0.0</td>\n",
       "      <td>0.0</td>\n",
       "      <td>0.0</td>\n",
       "      <td>...</td>\n",
       "      <td>0.0</td>\n",
       "      <td>0.0</td>\n",
       "      <td>0.0</td>\n",
       "      <td>0.0</td>\n",
       "      <td>0.0</td>\n",
       "      <td>0.0</td>\n",
       "      <td>0.0</td>\n",
       "      <td>0.0</td>\n",
       "      <td>0.0</td>\n",
       "      <td>0.0</td>\n",
       "    </tr>\n",
       "    <tr>\n",
       "      <th>-Azsael-</th>\n",
       "      <td>0.0</td>\n",
       "      <td>0.0</td>\n",
       "      <td>0.0</td>\n",
       "      <td>0.0</td>\n",
       "      <td>0.0</td>\n",
       "      <td>0.0</td>\n",
       "      <td>0.0</td>\n",
       "      <td>0.0</td>\n",
       "      <td>0.0</td>\n",
       "      <td>0.0</td>\n",
       "      <td>...</td>\n",
       "      <td>0.0</td>\n",
       "      <td>0.0</td>\n",
       "      <td>0.0</td>\n",
       "      <td>0.0</td>\n",
       "      <td>0.0</td>\n",
       "      <td>0.0</td>\n",
       "      <td>0.0</td>\n",
       "      <td>0.0</td>\n",
       "      <td>0.0</td>\n",
       "      <td>0.0</td>\n",
       "    </tr>\n",
       "    <tr>\n",
       "      <th>...</th>\n",
       "      <td>...</td>\n",
       "      <td>...</td>\n",
       "      <td>...</td>\n",
       "      <td>...</td>\n",
       "      <td>...</td>\n",
       "      <td>...</td>\n",
       "      <td>...</td>\n",
       "      <td>...</td>\n",
       "      <td>...</td>\n",
       "      <td>...</td>\n",
       "      <td>...</td>\n",
       "      <td>...</td>\n",
       "      <td>...</td>\n",
       "      <td>...</td>\n",
       "      <td>...</td>\n",
       "      <td>...</td>\n",
       "      <td>...</td>\n",
       "      <td>...</td>\n",
       "      <td>...</td>\n",
       "      <td>...</td>\n",
       "      <td>...</td>\n",
       "    </tr>\n",
       "    <tr>\n",
       "      <th>zv_odd</th>\n",
       "      <td>0.0</td>\n",
       "      <td>0.0</td>\n",
       "      <td>0.0</td>\n",
       "      <td>0.0</td>\n",
       "      <td>0.0</td>\n",
       "      <td>0.0</td>\n",
       "      <td>0.0</td>\n",
       "      <td>0.0</td>\n",
       "      <td>0.0</td>\n",
       "      <td>0.0</td>\n",
       "      <td>...</td>\n",
       "      <td>0.0</td>\n",
       "      <td>0.0</td>\n",
       "      <td>0.0</td>\n",
       "      <td>0.0</td>\n",
       "      <td>0.0</td>\n",
       "      <td>0.0</td>\n",
       "      <td>0.0</td>\n",
       "      <td>0.0</td>\n",
       "      <td>0.0</td>\n",
       "      <td>0.0</td>\n",
       "    </tr>\n",
       "    <tr>\n",
       "      <th>zvanik</th>\n",
       "      <td>0.0</td>\n",
       "      <td>0.0</td>\n",
       "      <td>0.0</td>\n",
       "      <td>0.0</td>\n",
       "      <td>0.0</td>\n",
       "      <td>0.0</td>\n",
       "      <td>0.0</td>\n",
       "      <td>0.0</td>\n",
       "      <td>0.0</td>\n",
       "      <td>0.0</td>\n",
       "      <td>...</td>\n",
       "      <td>0.0</td>\n",
       "      <td>0.0</td>\n",
       "      <td>0.0</td>\n",
       "      <td>0.0</td>\n",
       "      <td>0.0</td>\n",
       "      <td>0.0</td>\n",
       "      <td>0.0</td>\n",
       "      <td>0.0</td>\n",
       "      <td>0.0</td>\n",
       "      <td>0.0</td>\n",
       "    </tr>\n",
       "    <tr>\n",
       "      <th>zynxgameth</th>\n",
       "      <td>0.0</td>\n",
       "      <td>0.0</td>\n",
       "      <td>0.0</td>\n",
       "      <td>0.0</td>\n",
       "      <td>0.0</td>\n",
       "      <td>0.0</td>\n",
       "      <td>0.0</td>\n",
       "      <td>0.0</td>\n",
       "      <td>0.0</td>\n",
       "      <td>0.0</td>\n",
       "      <td>...</td>\n",
       "      <td>0.0</td>\n",
       "      <td>0.0</td>\n",
       "      <td>0.0</td>\n",
       "      <td>0.0</td>\n",
       "      <td>0.0</td>\n",
       "      <td>0.0</td>\n",
       "      <td>0.0</td>\n",
       "      <td>0.0</td>\n",
       "      <td>0.0</td>\n",
       "      <td>0.0</td>\n",
       "    </tr>\n",
       "    <tr>\n",
       "      <th>zyr0n1c</th>\n",
       "      <td>0.0</td>\n",
       "      <td>0.0</td>\n",
       "      <td>0.0</td>\n",
       "      <td>0.0</td>\n",
       "      <td>0.0</td>\n",
       "      <td>0.0</td>\n",
       "      <td>0.0</td>\n",
       "      <td>0.0</td>\n",
       "      <td>0.0</td>\n",
       "      <td>0.0</td>\n",
       "      <td>...</td>\n",
       "      <td>0.0</td>\n",
       "      <td>0.0</td>\n",
       "      <td>0.0</td>\n",
       "      <td>0.0</td>\n",
       "      <td>0.0</td>\n",
       "      <td>0.0</td>\n",
       "      <td>0.0</td>\n",
       "      <td>0.0</td>\n",
       "      <td>0.0</td>\n",
       "      <td>0.0</td>\n",
       "    </tr>\n",
       "    <tr>\n",
       "      <th>zzoptimuszz</th>\n",
       "      <td>0.0</td>\n",
       "      <td>0.0</td>\n",
       "      <td>0.0</td>\n",
       "      <td>0.0</td>\n",
       "      <td>0.0</td>\n",
       "      <td>0.0</td>\n",
       "      <td>0.0</td>\n",
       "      <td>0.0</td>\n",
       "      <td>0.0</td>\n",
       "      <td>0.0</td>\n",
       "      <td>...</td>\n",
       "      <td>0.0</td>\n",
       "      <td>0.0</td>\n",
       "      <td>0.0</td>\n",
       "      <td>0.0</td>\n",
       "      <td>0.0</td>\n",
       "      <td>0.0</td>\n",
       "      <td>0.0</td>\n",
       "      <td>0.0</td>\n",
       "      <td>0.0</td>\n",
       "      <td>0.0</td>\n",
       "    </tr>\n",
       "  </tbody>\n",
       "</table>\n",
       "<p>19625 rows × 3062 columns</p>\n",
       "</div>"
      ],
      "text/plain": [
       "item_name     ! That Bastard Is Trying To Steal Our Gold !  10,000,000  \\\n",
       "user_id                                                                  \n",
       "--000--                                                0.0         0.0   \n",
       "--ace--                                                0.0         0.0   \n",
       "--ionex--                                              0.0         0.0   \n",
       "-2SV-vuLB-Kg                                           0.0         0.0   \n",
       "-Azsael-                                               0.0         0.0   \n",
       "...                                                    ...         ...   \n",
       "zv_odd                                                 0.0         0.0   \n",
       "zvanik                                                 0.0         0.0   \n",
       "zynxgameth                                             0.0         0.0   \n",
       "zyr0n1c                                                0.0         0.0   \n",
       "zzoptimuszz                                            0.0         0.0   \n",
       "\n",
       "item_name     100% Orange Juice  12 Labours of Hercules  \\\n",
       "user_id                                                   \n",
       "--000--                     0.0                     0.0   \n",
       "--ace--                     0.0                     0.0   \n",
       "--ionex--                   0.0                     0.0   \n",
       "-2SV-vuLB-Kg                0.0                     0.0   \n",
       "-Azsael-                    0.0                     0.0   \n",
       "...                         ...                     ...   \n",
       "zv_odd                      0.0                     0.0   \n",
       "zvanik                      0.0                     0.0   \n",
       "zynxgameth                  0.0                     0.0   \n",
       "zyr0n1c                     0.0                     0.0   \n",
       "zzoptimuszz                 0.0                     0.0   \n",
       "\n",
       "item_name     12 Labours of Hercules II: The Cretan Bull  140  16 Bit Arena  \\\n",
       "user_id                                                                       \n",
       "--000--                                              0.0  0.0           0.0   \n",
       "--ace--                                              0.0  0.0           0.0   \n",
       "--ionex--                                            0.0  0.0           0.0   \n",
       "-2SV-vuLB-Kg                                         0.0  0.0           0.0   \n",
       "-Azsael-                                             0.0  0.0           0.0   \n",
       "...                                                  ...  ...           ...   \n",
       "zv_odd                                               0.0  0.0           0.0   \n",
       "zvanik                                               0.0  0.0           0.0   \n",
       "zynxgameth                                           0.0  0.0           0.0   \n",
       "zyr0n1c                                              0.0  0.0           0.0   \n",
       "zzoptimuszz                                          0.0  0.0           0.0   \n",
       "\n",
       "item_name     16bit Trader  200% Mixed Juice!  20XX  ...  klocki  \\\n",
       "user_id                                              ...           \n",
       "--000--                0.0                0.0   0.0  ...     0.0   \n",
       "--ace--                0.0                0.0   0.0  ...     0.0   \n",
       "--ionex--              0.0                0.0   0.0  ...     0.0   \n",
       "-2SV-vuLB-Kg           0.0                0.0   0.0  ...     0.0   \n",
       "-Azsael-               0.0                0.0   0.0  ...     0.0   \n",
       "...                    ...                ...   ...  ...     ...   \n",
       "zv_odd                 0.0                0.0   0.0  ...     0.0   \n",
       "zvanik                 0.0                0.0   0.0  ...     0.0   \n",
       "zynxgameth             0.0                0.0   0.0  ...     0.0   \n",
       "zyr0n1c                0.0                0.0   0.0  ...     0.0   \n",
       "zzoptimuszz            0.0                0.0   0.0  ...     0.0   \n",
       "\n",
       "item_name     liteCam Game: 100 FPS Game Capture   oO  \\\n",
       "user_id                                                 \n",
       "--000--                                      0.0  0.0   \n",
       "--ace--                                      0.0  0.0   \n",
       "--ionex--                                    0.0  0.0   \n",
       "-2SV-vuLB-Kg                                 0.0  0.0   \n",
       "-Azsael-                                     0.0  0.0   \n",
       "...                                          ...  ...   \n",
       "zv_odd                                       0.0  0.0   \n",
       "zvanik                                       0.0  0.0   \n",
       "zynxgameth                                   0.0  0.0   \n",
       "zyr0n1c                                      0.0  0.0   \n",
       "zzoptimuszz                                  0.0  0.0   \n",
       "\n",
       "item_name     planetarian ~the reverie of a little planet~  \\\n",
       "user_id                                                      \n",
       "--000--                                                0.0   \n",
       "--ace--                                                0.0   \n",
       "--ionex--                                              0.0   \n",
       "-2SV-vuLB-Kg                                           0.0   \n",
       "-Azsael-                                               0.0   \n",
       "...                                                    ...   \n",
       "zv_odd                                                 0.0   \n",
       "zvanik                                                 0.0   \n",
       "zynxgameth                                             0.0   \n",
       "zyr0n1c                                                0.0   \n",
       "zzoptimuszz                                            0.0   \n",
       "\n",
       "item_name     resident evil 4 / biohazard 4  sZone-Online  \\\n",
       "user_id                                                     \n",
       "--000--                                 0.0           0.0   \n",
       "--ace--                                 0.0           0.0   \n",
       "--ionex--                               0.0           0.0   \n",
       "-2SV-vuLB-Kg                            0.0           0.0   \n",
       "-Azsael-                                0.0           0.0   \n",
       "...                                     ...           ...   \n",
       "zv_odd                                  0.0           0.0   \n",
       "zvanik                                  0.0           0.0   \n",
       "zynxgameth                              0.0           0.0   \n",
       "zyr0n1c                                 0.0           0.0   \n",
       "zzoptimuszz                             0.0           0.0   \n",
       "\n",
       "item_name     the static speaks my name  theBlu  theHunter  theHunter: Primal  \n",
       "user_id                                                                        \n",
       "--000--                             0.0     0.0        0.0                0.0  \n",
       "--ace--                             0.0     0.0        0.0                0.0  \n",
       "--ionex--                           0.0     0.0        0.0                0.0  \n",
       "-2SV-vuLB-Kg                        0.0     0.0        0.0                0.0  \n",
       "-Azsael-                            0.0     0.0        0.0                0.0  \n",
       "...                                 ...     ...        ...                ...  \n",
       "zv_odd                              0.0     0.0        0.0                0.0  \n",
       "zvanik                              0.0     0.0        0.0                0.0  \n",
       "zynxgameth                          0.0     0.0        0.0                0.0  \n",
       "zyr0n1c                             0.0     0.0        0.0                0.0  \n",
       "zzoptimuszz                         0.0     0.0        0.0                0.0  \n",
       "\n",
       "[19625 rows x 3062 columns]"
      ]
     },
     "execution_count": 51,
     "metadata": {},
     "output_type": "execute_result"
    }
   ],
   "source": [
    "items_pivot"
   ]
  },
  {
   "cell_type": "markdown",
   "metadata": {},
   "source": [
    "#### Debido a que tiene muchos NaN ( esto de se debe a que todos los usuarios no pueden jugar todos los juegos) y se eliminan"
   ]
  },
  {
   "cell_type": "code",
   "execution_count": 52,
   "metadata": {},
   "outputs": [],
   "source": [
    "items_pivot.fillna(0, inplace=True)"
   ]
  },
  {
   "cell_type": "markdown",
   "metadata": {},
   "source": [
    "### Se verifica la tabla dinámica no tenga los NaN"
   ]
  },
  {
   "cell_type": "code",
   "execution_count": null,
   "metadata": {},
   "outputs": [],
   "source": [
    "items_pivot"
   ]
  },
  {
   "cell_type": "markdown",
   "metadata": {},
   "source": [
    "#### Se crea una matriz dispersa con la tabla dinámica usando csr (permite manejar eficientemente estas grandes cantidades de datos sin desperdiciar memoria y es util con el manejo de valores cero). Se usa para saber cómo los usuarios interactúan con los ítems"
   ]
  },
  {
   "cell_type": "code",
   "execution_count": 23,
   "metadata": {},
   "outputs": [],
   "source": [
    "df_dispersa = sp.sparse.csr_matrix(items_pivot.values)"
   ]
  },
  {
   "cell_type": "markdown",
   "metadata": {},
   "source": [
    "#### Se verfica el tamaño de la matriz y sus características"
   ]
  },
  {
   "cell_type": "code",
   "execution_count": 24,
   "metadata": {},
   "outputs": [
    {
     "data": {
      "text/plain": [
       "<Compressed Sparse Row sparse matrix of dtype 'float64'\n",
       "\twith 35817 stored elements and shape (19625, 3062)>"
      ]
     },
     "execution_count": 24,
     "metadata": {},
     "output_type": "execute_result"
    }
   ],
   "source": [
    "df_dispersa "
   ]
  },
  {
   "cell_type": "markdown",
   "metadata": {},
   "source": [
    "### Se traspone la matriz para ver cómo los ítems han sido evaluados por diferentes usuarios, y se verifican sus características"
   ]
  },
  {
   "cell_type": "code",
   "execution_count": 25,
   "metadata": {},
   "outputs": [
    {
     "data": {
      "text/plain": [
       "<Compressed Sparse Column sparse matrix of dtype 'float64'\n",
       "\twith 35817 stored elements and shape (3062, 19625)>"
      ]
     },
     "execution_count": 25,
     "metadata": {},
     "output_type": "execute_result"
    }
   ],
   "source": [
    "df_dispersa.T"
   ]
  },
  {
   "cell_type": "markdown",
   "metadata": {},
   "source": [
    "### Se calcula la similitud entre los usuarios y los juegos, utilizando la similitud del coseno en base a la matriz dispersa df_dispersa.\n",
    "\n"
   ]
  },
  {
   "cell_type": "code",
   "execution_count": 26,
   "metadata": {},
   "outputs": [],
   "source": [
    "user_similarity= cosine_similarity(df_dispersa) # que tan parecidos son los usuarios \n",
    "item_similarity= cosine_similarity(df_dispersa.T) # que tan parecidos son los juegos"
   ]
  },
  {
   "cell_type": "markdown",
   "metadata": {},
   "source": [
    "### Se convierten en df"
   ]
  },
  {
   "cell_type": "code",
   "execution_count": 27,
   "metadata": {},
   "outputs": [],
   "source": [
    "user_similarity_df = pd.DataFrame(user_similarity, index = items_pivot.index, columns = items_pivot.index)"
   ]
  },
  {
   "cell_type": "code",
   "execution_count": null,
   "metadata": {},
   "outputs": [],
   "source": [
    "user_similarity_df.head()"
   ]
  },
  {
   "cell_type": "code",
   "execution_count": 29,
   "metadata": {},
   "outputs": [],
   "source": [
    "item_similarity_df = pd.DataFrame(item_similarity, index=items_pivot.columns, columns = items_pivot.columns)"
   ]
  },
  {
   "cell_type": "code",
   "execution_count": null,
   "metadata": {},
   "outputs": [],
   "source": [
    "item_similarity_df"
   ]
  },
  {
   "cell_type": "markdown",
   "metadata": {},
   "source": [
    "### Se prueba la funcion para obtener las similitudes de un ítem específico, en este caso, el ítem \"the static speaks my name\" y luego ordenarlas en orden descendente."
   ]
  },
  {
   "cell_type": "code",
   "execution_count": null,
   "metadata": {},
   "outputs": [],
   "source": [
    "item_similarity_df[\"the static speaks my name\"].sort_values(ascending=False)"
   ]
  },
  {
   "cell_type": "markdown",
   "metadata": {},
   "source": [
    "### Se prueba la funcion para obtener las similitudes de un usuario específico, en este caso, el ítem \"zvanik\" y luego ordenarlas en orden descendente."
   ]
  },
  {
   "cell_type": "code",
   "execution_count": 32,
   "metadata": {},
   "outputs": [
    {
     "data": {
      "text/plain": [
       "user_id\n",
       "zvanik               1.000000\n",
       "76561198047956258    0.942809\n",
       "DeathMage11          0.816497\n",
       "simplyremi           0.816497\n",
       "1457184935981        0.816497\n",
       "                       ...   \n",
       "76561198086724424    0.000000\n",
       "76561198086732056    0.000000\n",
       "76561198086758138    0.000000\n",
       "76561198086791425    0.000000\n",
       "zzoptimuszz          0.000000\n",
       "Name: zvanik, Length: 19625, dtype: float64"
      ]
     },
     "execution_count": 32,
     "metadata": {},
     "output_type": "execute_result"
    }
   ],
   "source": [
    "user_similarity_df[\"zvanik\"].sort_values(ascending=False)"
   ]
  },
  {
   "cell_type": "markdown",
   "metadata": {},
   "source": [
    "### Se prueba la función: creaando una lista de juegos que ha calificado o reseñado el usuario identificado como \"zvanik\" en el DataFrame df_combined"
   ]
  },
  {
   "cell_type": "code",
   "execution_count": 33,
   "metadata": {},
   "outputs": [],
   "source": [
    "lista_juegos_user2 = df_combined[df_combined[\"user_id\"]== (\"zvanik\")].sort_values(by =\"item_name\")"
   ]
  },
  {
   "cell_type": "code",
   "execution_count": 34,
   "metadata": {},
   "outputs": [
    {
     "data": {
      "text/html": [
       "<div>\n",
       "<style scoped>\n",
       "    .dataframe tbody tr th:only-of-type {\n",
       "        vertical-align: middle;\n",
       "    }\n",
       "\n",
       "    .dataframe tbody tr th {\n",
       "        vertical-align: top;\n",
       "    }\n",
       "\n",
       "    .dataframe thead th {\n",
       "        text-align: right;\n",
       "    }\n",
       "</style>\n",
       "<table border=\"1\" class=\"dataframe\">\n",
       "  <thead>\n",
       "    <tr style=\"text-align: right;\">\n",
       "      <th></th>\n",
       "      <th>user_id</th>\n",
       "      <th>item_id</th>\n",
       "      <th>item_name</th>\n",
       "      <th>playtime_forever</th>\n",
       "      <th>sentiment_analysis</th>\n",
       "    </tr>\n",
       "  </thead>\n",
       "  <tbody>\n",
       "    <tr>\n",
       "      <th>41250</th>\n",
       "      <td>zvanik</td>\n",
       "      <td>730</td>\n",
       "      <td>Counter-Strike: Global Offensive</td>\n",
       "      <td>15898.0</td>\n",
       "      <td>2</td>\n",
       "    </tr>\n",
       "    <tr>\n",
       "      <th>41249</th>\n",
       "      <td>zvanik</td>\n",
       "      <td>200210</td>\n",
       "      <td>Realm of the Mad God</td>\n",
       "      <td>127.0</td>\n",
       "      <td>2</td>\n",
       "    </tr>\n",
       "    <tr>\n",
       "      <th>41251</th>\n",
       "      <td>zvanik</td>\n",
       "      <td>304050</td>\n",
       "      <td>Trove</td>\n",
       "      <td>22934.0</td>\n",
       "      <td>2</td>\n",
       "    </tr>\n",
       "  </tbody>\n",
       "</table>\n",
       "</div>"
      ],
      "text/plain": [
       "      user_id item_id                         item_name  playtime_forever  \\\n",
       "41250  zvanik     730  Counter-Strike: Global Offensive           15898.0   \n",
       "41249  zvanik  200210              Realm of the Mad God             127.0   \n",
       "41251  zvanik  304050                             Trove           22934.0   \n",
       "\n",
       "       sentiment_analysis  \n",
       "41250                   2  \n",
       "41249                   2  \n",
       "41251                   2  "
      ]
     },
     "execution_count": 34,
     "metadata": {},
     "output_type": "execute_result"
    }
   ],
   "source": [
    "lista_juegos_user2"
   ]
  },
  {
   "cell_type": "markdown",
   "metadata": {},
   "source": [
    "### Se prueba la función: creaando una lista de juegos que ha calificado o reseñado el usuario identificado como \"76561198047956258\" en el DataFrame df_combined"
   ]
  },
  {
   "cell_type": "code",
   "execution_count": 35,
   "metadata": {},
   "outputs": [],
   "source": [
    "lista_juegos_user96 = df_combined[df_combined[\"user_id\"]== (\"76561198047956258\")].sort_values(by =\"item_name\")"
   ]
  },
  {
   "cell_type": "code",
   "execution_count": 36,
   "metadata": {},
   "outputs": [
    {
     "data": {
      "text/html": [
       "<div>\n",
       "<style scoped>\n",
       "    .dataframe tbody tr th:only-of-type {\n",
       "        vertical-align: middle;\n",
       "    }\n",
       "\n",
       "    .dataframe tbody tr th {\n",
       "        vertical-align: top;\n",
       "    }\n",
       "\n",
       "    .dataframe thead th {\n",
       "        text-align: right;\n",
       "    }\n",
       "</style>\n",
       "<table border=\"1\" class=\"dataframe\">\n",
       "  <thead>\n",
       "    <tr style=\"text-align: right;\">\n",
       "      <th></th>\n",
       "      <th>user_id</th>\n",
       "      <th>item_id</th>\n",
       "      <th>item_name</th>\n",
       "      <th>playtime_forever</th>\n",
       "      <th>sentiment_analysis</th>\n",
       "    </tr>\n",
       "  </thead>\n",
       "  <tbody>\n",
       "    <tr>\n",
       "      <th>12606</th>\n",
       "      <td>76561198047956258</td>\n",
       "      <td>730</td>\n",
       "      <td>Counter-Strike: Global Offensive</td>\n",
       "      <td>32420.0</td>\n",
       "      <td>2</td>\n",
       "    </tr>\n",
       "    <tr>\n",
       "      <th>12607</th>\n",
       "      <td>76561198047956258</td>\n",
       "      <td>200210</td>\n",
       "      <td>Realm of the Mad God</td>\n",
       "      <td>18526.0</td>\n",
       "      <td>1</td>\n",
       "    </tr>\n",
       "    <tr>\n",
       "      <th>12608</th>\n",
       "      <td>76561198047956258</td>\n",
       "      <td>304050</td>\n",
       "      <td>Trove</td>\n",
       "      <td>13207.0</td>\n",
       "      <td>1</td>\n",
       "    </tr>\n",
       "  </tbody>\n",
       "</table>\n",
       "</div>"
      ],
      "text/plain": [
       "                 user_id item_id                         item_name  \\\n",
       "12606  76561198047956258     730  Counter-Strike: Global Offensive   \n",
       "12607  76561198047956258  200210              Realm of the Mad God   \n",
       "12608  76561198047956258  304050                             Trove   \n",
       "\n",
       "       playtime_forever  sentiment_analysis  \n",
       "12606           32420.0                   2  \n",
       "12607           18526.0                   1  \n",
       "12608           13207.0                   1  "
      ]
     },
     "execution_count": 36,
     "metadata": {},
     "output_type": "execute_result"
    }
   ],
   "source": [
    "lista_juegos_user96"
   ]
  },
  {
   "cell_type": "markdown",
   "metadata": {},
   "source": [
    "### Se combina las dos listas: lista_juegos_user2 y lista_juegos_user96, para comparar similitudes de juegos y que se le podria recomendar al usuario por las calificaciones"
   ]
  },
  {
   "cell_type": "code",
   "execution_count": 37,
   "metadata": {},
   "outputs": [],
   "source": [
    "resultado_juegos = pd.merge(lista_juegos_user2, lista_juegos_user96, on =[\"item_id\"], how = \"left\")"
   ]
  },
  {
   "cell_type": "code",
   "execution_count": 38,
   "metadata": {},
   "outputs": [
    {
     "data": {
      "text/html": [
       "<div>\n",
       "<style scoped>\n",
       "    .dataframe tbody tr th:only-of-type {\n",
       "        vertical-align: middle;\n",
       "    }\n",
       "\n",
       "    .dataframe tbody tr th {\n",
       "        vertical-align: top;\n",
       "    }\n",
       "\n",
       "    .dataframe thead th {\n",
       "        text-align: right;\n",
       "    }\n",
       "</style>\n",
       "<table border=\"1\" class=\"dataframe\">\n",
       "  <thead>\n",
       "    <tr style=\"text-align: right;\">\n",
       "      <th></th>\n",
       "      <th>user_id_x</th>\n",
       "      <th>item_id</th>\n",
       "      <th>item_name_x</th>\n",
       "      <th>playtime_forever_x</th>\n",
       "      <th>sentiment_analysis_x</th>\n",
       "      <th>user_id_y</th>\n",
       "      <th>item_name_y</th>\n",
       "      <th>playtime_forever_y</th>\n",
       "      <th>sentiment_analysis_y</th>\n",
       "    </tr>\n",
       "  </thead>\n",
       "  <tbody>\n",
       "    <tr>\n",
       "      <th>0</th>\n",
       "      <td>zvanik</td>\n",
       "      <td>730</td>\n",
       "      <td>Counter-Strike: Global Offensive</td>\n",
       "      <td>15898.0</td>\n",
       "      <td>2</td>\n",
       "      <td>76561198047956258</td>\n",
       "      <td>Counter-Strike: Global Offensive</td>\n",
       "      <td>32420.0</td>\n",
       "      <td>2</td>\n",
       "    </tr>\n",
       "    <tr>\n",
       "      <th>1</th>\n",
       "      <td>zvanik</td>\n",
       "      <td>200210</td>\n",
       "      <td>Realm of the Mad God</td>\n",
       "      <td>127.0</td>\n",
       "      <td>2</td>\n",
       "      <td>76561198047956258</td>\n",
       "      <td>Realm of the Mad God</td>\n",
       "      <td>18526.0</td>\n",
       "      <td>1</td>\n",
       "    </tr>\n",
       "    <tr>\n",
       "      <th>2</th>\n",
       "      <td>zvanik</td>\n",
       "      <td>304050</td>\n",
       "      <td>Trove</td>\n",
       "      <td>22934.0</td>\n",
       "      <td>2</td>\n",
       "      <td>76561198047956258</td>\n",
       "      <td>Trove</td>\n",
       "      <td>13207.0</td>\n",
       "      <td>1</td>\n",
       "    </tr>\n",
       "  </tbody>\n",
       "</table>\n",
       "</div>"
      ],
      "text/plain": [
       "  user_id_x item_id                       item_name_x  playtime_forever_x  \\\n",
       "0    zvanik     730  Counter-Strike: Global Offensive             15898.0   \n",
       "1    zvanik  200210              Realm of the Mad God               127.0   \n",
       "2    zvanik  304050                             Trove             22934.0   \n",
       "\n",
       "   sentiment_analysis_x          user_id_y                       item_name_y  \\\n",
       "0                     2  76561198047956258  Counter-Strike: Global Offensive   \n",
       "1                     2  76561198047956258              Realm of the Mad God   \n",
       "2                     2  76561198047956258                             Trove   \n",
       "\n",
       "   playtime_forever_y  sentiment_analysis_y  \n",
       "0             32420.0                     2  \n",
       "1             18526.0                     1  \n",
       "2             13207.0                     1  "
      ]
     },
     "execution_count": 38,
     "metadata": {},
     "output_type": "execute_result"
    }
   ],
   "source": [
    "resultado_juegos"
   ]
  },
  {
   "cell_type": "markdown",
   "metadata": {},
   "source": [
    "### Se realizan la recomendacion  user_item"
   ]
  },
  {
   "cell_type": "code",
   "execution_count": 39,
   "metadata": {},
   "outputs": [],
   "source": [
    "def recomendacion_usuario(user_id, n_recommendations=5):\n",
    "    user_id = str(user_id)\n",
    "    user_idx = items_pivot.index.get_loc(user_id)  # Obtener el índice del usuario\n",
    "    similar_users = list(enumerate(user_similarity[user_idx]))\n",
    "    similar_users = sorted(similar_users, key=lambda x: x[1], reverse=True)  # Ordenar por similitud\n",
    "    similar_users = [items_pivot.index[i] for i, score in similar_users[1:n_recommendations+1]]\n",
    "\n",
    "    # Recomendamos los juegos jugados por los usuarios similares\n",
    "    recommended_games = items_pivot.loc[similar_users].mean().sort_values(ascending=False).index[:n_recommendations]\n",
    "    # Convertir la lista de juegos recomendados en un formato de cadena\n",
    "    recommended_games_str = \", \".join(recommended_games)\n",
    "    \n",
    "    # Crear la respuesta personalizada\n",
    "    respuesta = f\"Para el usuario '{user_id}', los juegos recomendados son: {recommended_games_str}\"\n",
    "    \n",
    "    return respuesta\n",
    "    \n"
   ]
  },
  {
   "cell_type": "markdown",
   "metadata": {},
   "source": [
    "### Se realiza la prueba de su funcionamiento"
   ]
  },
  {
   "cell_type": "code",
   "execution_count": 40,
   "metadata": {},
   "outputs": [
    {
     "name": "stdout",
     "output_type": "stream",
     "text": [
      "Para el usuario '--ace--', los juegos recomendados son: The Binding of Isaac, ! That Bastard Is Trying To Steal Our Gold !, Resident Evil Revelations 2 / Biohazard Revelations 2, Renowned Explorers: International Society, Replica\n"
     ]
    }
   ],
   "source": [
    "respuesta = recomendacion_usuario(user_id='--ace--', n_recommendations=5)\n",
    "print(respuesta)"
   ]
  },
  {
   "cell_type": "code",
   "execution_count": 41,
   "metadata": {},
   "outputs": [
    {
     "name": "stdout",
     "output_type": "stream",
     "text": [
      "Primeros IDs de usuarios: Index(['--000--', '--ace--', '--ionex--', '-2SV-vuLB-Kg', '-Azsael-',\n",
      "       '-Beave-', '-GM-Dragon', '-Kenny', '-Mad-', '-PRoSlayeR-'],\n",
      "      dtype='object', name='user_id')\n",
      "¿El ID del usuario está en el índice?: False\n"
     ]
    }
   ],
   "source": [
    "print(f\"Primeros IDs de usuarios: {items_pivot.index[:10]}\")\n",
    "print(f\"¿El ID del usuario está en el índice?: {76561198077246154 in items_pivot.index}\")"
   ]
  },
  {
   "cell_type": "markdown",
   "metadata": {},
   "source": [
    "### Se realiza la recomendacion item_item"
   ]
  },
  {
   "cell_type": "code",
   "execution_count": 42,
   "metadata": {},
   "outputs": [],
   "source": [
    "def recomendacion_juego(item_id, n_recommendations=5):\n",
    "    item_idx = items_pivot.columns.get_loc(item_id)  # Obtener el índice del juego\n",
    "    similar_games = list(enumerate(item_similarity[item_idx]))\n",
    "    similar_games = sorted(similar_games, key=lambda x: x[1], reverse=True)  # Ordenar por similitud\n",
    "    similar_games = [items_pivot.columns[i] for i, score in similar_games[1:n_recommendations+1]]\n",
    "    similar_games_str = \", \".join(similar_games)\n",
    "    respuesta = f\"Ingresando el id de producto '{item_id}', los juegos recomendados similares son: {similar_games_str}\"\n",
    "    return respuesta"
   ]
  },
  {
   "cell_type": "markdown",
   "metadata": {},
   "source": [
    "### Se prueba el funcionamiento"
   ]
  },
  {
   "cell_type": "code",
   "execution_count": 43,
   "metadata": {},
   "outputs": [
    {
     "name": "stdout",
     "output_type": "stream",
     "text": [
      "Ingresando el id de producto '10,000,000', los juegos recomendados similares son: Skulls of the Shogun, The Elder Scrolls V: Skyrim, ! That Bastard Is Trying To Steal Our Gold !, 100% Orange Juice, 12 Labours of Hercules\n"
     ]
    }
   ],
   "source": [
    "respuesta = recomendacion_juego(item_id='10,000,000', n_recommendations=5)\n",
    "print(respuesta)"
   ]
  },
  {
   "cell_type": "code",
   "execution_count": 44,
   "metadata": {},
   "outputs": [
    {
     "name": "stdout",
     "output_type": "stream",
     "text": [
      "Index(['! That Bastard Is Trying To Steal Our Gold !', '10,000,000',\n",
      "       '100% Orange Juice', '12 Labours of Hercules',\n",
      "       '12 Labours of Hercules II: The Cretan Bull', '140', '16 Bit Arena',\n",
      "       '16bit Trader', '200% Mixed Juice!', '20XX'],\n",
      "      dtype='object', name='item_name')\n"
     ]
    }
   ],
   "source": [
    "primeros_ids = items_pivot.columns[:10]\n",
    "print(primeros_ids)"
   ]
  },
  {
   "cell_type": "markdown",
   "metadata": {},
   "source": [
    "### Se realiza la función y su endpoint para la API de user_item"
   ]
  },
  {
   "cell_type": "code",
   "execution_count": null,
   "metadata": {},
   "outputs": [],
   "source": [
    "\n",
    "\n",
    "# funcion de  recomendacion_user-item:\n",
    "def recomendacion_usuario(user_id, n_recommendations=5):\n",
    "    user_id = str(user_id)\n",
    "    user_idx = items_pivot.index.get_loc(user_id)  # Obtener el índice del usuario\n",
    "    similar_users = list(enumerate(user_similarity[user_idx]))\n",
    "    similar_users = sorted(similar_users, key=lambda x: x[1], reverse=True)  # Ordenar por similitud\n",
    "    similar_users = [items_pivot.index[i] for i, score in similar_users[1:n_recommendations+1]]\n",
    "\n",
    "    # Recomendamos los juegos jugados por los usuarios similares\n",
    "    recommended_games = items_pivot.loc[similar_users].mean().sort_values(ascending=False).index[:n_recommendations]\n",
    "    # Convertir la lista de juegos recomendados en un formato de cadena\n",
    "    recommended_games_str = \", \".join(recommended_games)\n",
    "    \n",
    "    # Crear la respuesta personalizada\n",
    "    respuesta = f\"Para el usuario '{user_id}', los juegos recomendados son: {recommended_games_str}\"\n",
    "    \n",
    "    return respuesta\n",
    "\n",
    "# Definir un endpoint para obtener recomendaciones de juegos\n",
    "@app.get(\"/recomendacion_usuario/\")\n",
    "def get_recomendacion_usuario(user_id: str, n_recommendations: Optional[int] = 5):\n",
    "    try:\n",
    "        # Llamar a la función recomendacion_usuario\n",
    "        recomendaciones = recomendacion_usuario(user_id=user_id, n_recommendations=n_recommendations)\n",
    "        # Retornar la respuesta en formato JSON\n",
    "        return {\"usuario\": user_id, \"recomendaciones\": recomendaciones}\n",
    "    except Exception as e:\n",
    "        # Manejar cualquier error y retornar un mensaje adecuado\n",
    "        return {\"error\": str(e)}\n",
    "\n",
    "# Correr el servidor\n",
    "if __name__ == \"__main__\":\n",
    "    import uvicorn\n",
    "    uvicorn.run(app, host=\"0.0.0.0\", port=8000)\n"
   ]
  },
  {
   "cell_type": "markdown",
   "metadata": {},
   "source": [
    "### Se realiza la función y su endpoint para la API de item_item"
   ]
  },
  {
   "cell_type": "code",
   "execution_count": null,
   "metadata": {},
   "outputs": [],
   "source": [
    "@app.post(\"/recomendacion_juego/\")\n",
    "def get_recomendacion_juego(request: RecommendationRequest):\n",
    "    try:\n",
    "        # Llamamos a la función de recomendación\n",
    "        respuesta = recomendacion_juego(request.item_id, request.n_recommendations)\n",
    "        return {\"respuesta\": respuesta}\n",
    "    except KeyError:\n",
    "        raise HTTPException(status_code=404, detail=\"El ID del juego no se encuentra en la base de datos.\")\n",
    "    except Exception as e:\n",
    "        raise HTTPException(status_code=500, detail=str(e))\n",
    "\n",
    "if __name__ == \"__main__\":\n",
    "    import uvicorn\n",
    "    uvicorn.run(app, host=\"0.0.0.0\", port=8000)"
   ]
  },
  {
   "cell_type": "markdown",
   "metadata": {},
   "source": []
  }
 ],
 "metadata": {
  "kernelspec": {
   "display_name": "Python 3",
   "language": "python",
   "name": "python3"
  },
  "language_info": {
   "codemirror_mode": {
    "name": "ipython",
    "version": 3
   },
   "file_extension": ".py",
   "mimetype": "text/x-python",
   "name": "python",
   "nbconvert_exporter": "python",
   "pygments_lexer": "ipython3",
   "version": "3.11.8"
  }
 },
 "nbformat": 4,
 "nbformat_minor": 2
}
